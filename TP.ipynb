{
 "cells": [
  {
   "cell_type": "markdown",
   "metadata": {},
   "source": [
    "# Problem sugestion with MAB algorithms"
   ]
  },
  {
   "cell_type": "markdown",
   "metadata": {},
   "source": [
    "We are using a simple MAB algorithm to select problems to competitive programming competitors. In this work we first introduce the base case.\n",
    "\n",
    "First we start with the Epsilon-Greedy algorithm."
   ]
  },
  {
   "cell_type": "markdown",
   "metadata": {},
   "source": [
    "## The data"
   ]
  },
  {
   "cell_type": "markdown",
   "metadata": {},
   "source": [
    "The algorithm will be trainning using the data from the URI Onlide Judge. We solve around of 200k solutions.\n",
    "The solutions is a list of tuples composed by `(problem_id, user_id, date)`.\n",
    "\n",
    "At first we will read the data and sort by date."
   ]
  },
  {
   "cell_type": "code",
   "execution_count": 310,
   "metadata": {
    "collapsed": true
   },
   "outputs": [],
   "source": [
    "import random, math\n",
    "from itertools import groupby\n",
    "from collections import namedtuple\n",
    "import pandas as pd\n",
    "import matplotlib.pyplot as plt"
   ]
  },
  {
   "cell_type": "code",
   "execution_count": 311,
   "metadata": {},
   "outputs": [
    {
     "data": {
      "text/html": [
       "<div>\n",
       "<style>\n",
       "    .dataframe thead tr:only-child th {\n",
       "        text-align: right;\n",
       "    }\n",
       "\n",
       "    .dataframe thead th {\n",
       "        text-align: left;\n",
       "    }\n",
       "\n",
       "    .dataframe tbody tr th {\n",
       "        vertical-align: top;\n",
       "    }\n",
       "</style>\n",
       "<table border=\"1\" class=\"dataframe\">\n",
       "  <thead>\n",
       "    <tr style=\"text-align: right;\">\n",
       "      <th></th>\n",
       "      <th>user</th>\n",
       "      <th>problem</th>\n",
       "      <th>category</th>\n",
       "      <th>date</th>\n",
       "    </tr>\n",
       "  </thead>\n",
       "  <tbody>\n",
       "    <tr>\n",
       "      <th>0</th>\n",
       "      <td>40980</td>\n",
       "      <td>1001</td>\n",
       "      <td>1</td>\n",
       "      <td>15/02/25 06:15</td>\n",
       "    </tr>\n",
       "    <tr>\n",
       "      <th>1</th>\n",
       "      <td>40980</td>\n",
       "      <td>1002</td>\n",
       "      <td>1</td>\n",
       "      <td>15/02/25 07:10</td>\n",
       "    </tr>\n",
       "    <tr>\n",
       "      <th>2</th>\n",
       "      <td>40980</td>\n",
       "      <td>1003</td>\n",
       "      <td>1</td>\n",
       "      <td>15/02/25 06:17</td>\n",
       "    </tr>\n",
       "    <tr>\n",
       "      <th>3</th>\n",
       "      <td>40980</td>\n",
       "      <td>1004</td>\n",
       "      <td>1</td>\n",
       "      <td>15/02/25 06:19</td>\n",
       "    </tr>\n",
       "    <tr>\n",
       "      <th>4</th>\n",
       "      <td>40980</td>\n",
       "      <td>1005</td>\n",
       "      <td>1</td>\n",
       "      <td>15/02/25 07:31</td>\n",
       "    </tr>\n",
       "  </tbody>\n",
       "</table>\n",
       "</div>"
      ],
      "text/plain": [
       "    user  problem  category            date\n",
       "0  40980     1001         1  15/02/25 06:15\n",
       "1  40980     1002         1  15/02/25 07:10\n",
       "2  40980     1003         1  15/02/25 06:17\n",
       "3  40980     1004         1  15/02/25 06:19\n",
       "4  40980     1005         1  15/02/25 07:31"
      ]
     },
     "execution_count": 311,
     "metadata": {},
     "output_type": "execute_result"
    }
   ],
   "source": [
    "solutions_df = pd.read_csv('solutions.csv')\n",
    "solutions_df[:5]"
   ]
  },
  {
   "cell_type": "markdown",
   "metadata": {},
   "source": [
    "And we will filter the problem by category."
   ]
  },
  {
   "cell_type": "code",
   "execution_count": 312,
   "metadata": {},
   "outputs": [],
   "source": [
    "#solutions_df = solutions_df.loc[solutions_df['category'] == 1]\n",
    "#solutions_df[:5]"
   ]
  },
  {
   "cell_type": "markdown",
   "metadata": {},
   "source": [
    "So, we need to sort the solutions by date:"
   ]
  },
  {
   "cell_type": "code",
   "execution_count": 313,
   "metadata": {},
   "outputs": [
    {
     "data": {
      "text/html": [
       "<div>\n",
       "<style>\n",
       "    .dataframe thead tr:only-child th {\n",
       "        text-align: right;\n",
       "    }\n",
       "\n",
       "    .dataframe thead th {\n",
       "        text-align: left;\n",
       "    }\n",
       "\n",
       "    .dataframe tbody tr th {\n",
       "        vertical-align: top;\n",
       "    }\n",
       "</style>\n",
       "<table border=\"1\" class=\"dataframe\">\n",
       "  <thead>\n",
       "    <tr style=\"text-align: right;\">\n",
       "      <th></th>\n",
       "      <th>user</th>\n",
       "      <th>problem</th>\n",
       "      <th>category</th>\n",
       "      <th>date</th>\n",
       "    </tr>\n",
       "  </thead>\n",
       "  <tbody>\n",
       "    <tr>\n",
       "      <th>195525</th>\n",
       "      <td>2</td>\n",
       "      <td>1001</td>\n",
       "      <td>1</td>\n",
       "      <td>12/03/01 04:12</td>\n",
       "    </tr>\n",
       "    <tr>\n",
       "      <th>195526</th>\n",
       "      <td>2</td>\n",
       "      <td>1002</td>\n",
       "      <td>1</td>\n",
       "      <td>12/03/01 04:26</td>\n",
       "    </tr>\n",
       "    <tr>\n",
       "      <th>195527</th>\n",
       "      <td>2</td>\n",
       "      <td>1003</td>\n",
       "      <td>1</td>\n",
       "      <td>12/03/01 04:28</td>\n",
       "    </tr>\n",
       "    <tr>\n",
       "      <th>195528</th>\n",
       "      <td>2</td>\n",
       "      <td>1004</td>\n",
       "      <td>1</td>\n",
       "      <td>12/03/01 04:29</td>\n",
       "    </tr>\n",
       "    <tr>\n",
       "      <th>195613</th>\n",
       "      <td>2</td>\n",
       "      <td>1007</td>\n",
       "      <td>1</td>\n",
       "      <td>12/03/01 04:44</td>\n",
       "    </tr>\n",
       "  </tbody>\n",
       "</table>\n",
       "</div>"
      ],
      "text/plain": [
       "        user  problem  category            date\n",
       "195525     2     1001         1  12/03/01 04:12\n",
       "195526     2     1002         1  12/03/01 04:26\n",
       "195527     2     1003         1  12/03/01 04:28\n",
       "195528     2     1004         1  12/03/01 04:29\n",
       "195613     2     1007         1  12/03/01 04:44"
      ]
     },
     "execution_count": 313,
     "metadata": {},
     "output_type": "execute_result"
    }
   ],
   "source": [
    "solutions_df = solutions_df.sort_values(['user', 'date'])\n",
    "solutions_df[:5]"
   ]
  },
  {
   "cell_type": "markdown",
   "metadata": {},
   "source": [
    "Now, we will get the set of problems and users."
   ]
  },
  {
   "cell_type": "code",
   "execution_count": 314,
   "metadata": {},
   "outputs": [
    {
     "data": {
      "text/plain": [
       "[1001, 1002, 1003, 1004, 1005]"
      ]
     },
     "execution_count": 314,
     "metadata": {},
     "output_type": "execute_result"
    }
   ],
   "source": [
    "problems = solutions_df['problem']\n",
    "problems = set(problems)\n",
    "problems = list(problems)\n",
    "len(problems)\n",
    "problems[:5]"
   ]
  },
  {
   "cell_type": "code",
   "execution_count": 315,
   "metadata": {},
   "outputs": [
    {
     "data": {
      "text/plain": [
       "[2, 6154, 49167, 8212, 131094]"
      ]
     },
     "execution_count": 315,
     "metadata": {},
     "output_type": "execute_result"
    }
   ],
   "source": [
    "users = solutions_df['user']\n",
    "users = set(users)\n",
    "users = list(users)\n",
    "users[:5]"
   ]
  },
  {
   "cell_type": "markdown",
   "metadata": {},
   "source": [
    "Now, we will split the data in trainning and testing. What we will do, is select some users to be part of the trainning set and then all theirs solutions will be part of the trainning dataset."
   ]
  },
  {
   "cell_type": "code",
   "execution_count": 316,
   "metadata": {},
   "outputs": [
    {
     "data": {
      "text/plain": [
       "[49963, 915, 21677, 41712, 11659]"
      ]
     },
     "execution_count": 316,
     "metadata": {},
     "output_type": "execute_result"
    }
   ],
   "source": [
    "#random.seed(0)\n",
    "random.shuffle(users)\n",
    "\n",
    "num_trainning_users = int((len(users) * 0.8))\n",
    "\n",
    "trainning_users = users[:num_trainning_users]\n",
    "testing_users = users[num_trainning_users:]\n",
    "\n",
    "trainning_users[:5]"
   ]
  },
  {
   "cell_type": "markdown",
   "metadata": {},
   "source": [
    "Now, we can split the data. \n",
    "OBS: The problems are indexed py your id. How they are sequential, we will decrease the value 1001 of each one. Because this will make the code more simple."
   ]
  },
  {
   "cell_type": "code",
   "execution_count": 317,
   "metadata": {},
   "outputs": [
    {
     "data": {
      "text/plain": [
       "[Solution(problem=0, user=2),\n",
       " Solution(problem=1, user=2),\n",
       " Solution(problem=2, user=2),\n",
       " Solution(problem=3, user=2),\n",
       " Solution(problem=6, user=2)]"
      ]
     },
     "execution_count": 317,
     "metadata": {},
     "output_type": "execute_result"
    }
   ],
   "source": [
    "Solution = namedtuple('Solution', 'problem, user')\n",
    "trainning_solutions = []\n",
    "testing_solutions = []\n",
    "\n",
    "for row in solutions_df.itertuples():\n",
    "    if row.user in testing_users:\n",
    "        testing_solutions.append(\n",
    "            Solution(row.problem - 1001, row.user)\n",
    "        )\n",
    "    else:\n",
    "        trainning_solutions.append(\n",
    "            Solution(row.problem - 1001, row.user)\n",
    "        )\n",
    "        \n",
    "trainning_solutions[:5]"
   ]
  },
  {
   "cell_type": "markdown",
   "metadata": {},
   "source": [
    "At this point we have everything that is necessary to test our algorithms. To start, we will use the Epsilon-Greedy algorithm"
   ]
  },
  {
   "cell_type": "code",
   "execution_count": 318,
   "metadata": {
    "collapsed": true
   },
   "outputs": [],
   "source": [
    "class EpsilonGreedy():\n",
    "    def __init__(self, n_arms):\n",
    "        self.epsilon = 0.4\n",
    "        self.n_arms = n_arms\n",
    "        self.counts = [0     for col in range(n_arms)]\n",
    "        self.values = [0.0   for col in range(n_arms)]\n",
    "        self.chosen = [False for col in range(n_arms)]\n",
    "\n",
    "\n",
    "    def initialize(self):\n",
    "        self.chosen = [False for col in range(self.n_arms)]\n",
    "\n",
    "\n",
    "    def max_arm(self):\n",
    "        max_arm = 0\n",
    "        max_value = -1\n",
    "        \n",
    "        for arm in range(self.n_arms):\n",
    "            if self.chosen[arm]:\n",
    "                continue\n",
    "            if self.values[arm] > max_value:\n",
    "                max_arm = arm\n",
    "                max_value = self.values[arm]\n",
    "\n",
    "        return max_arm\n",
    "\n",
    "    \n",
    "    def rand_arm(self):\n",
    "        rand_arm = random.randrange(self.n_arms)\n",
    "        \n",
    "        while self.chosen[rand_arm]:\n",
    "            rand_arm = random.randrange(self.n_arms)\n",
    "\n",
    "        return rand_arm\n",
    "\n",
    "\n",
    "    def select_arm(self):\n",
    "        t = sum(self.counts) + 1\n",
    "        epsilon = 1 / math.log(t + 0.0000001)\n",
    "        \n",
    "        if random.random() > epsilon:\n",
    "            return self.max_arm()\n",
    "        else:\n",
    "            return self.rand_arm()\n",
    "  \n",
    "\n",
    "    def update(self, chosen_arm, reward):\n",
    "        self.counts[chosen_arm] = self.counts[chosen_arm] + 1\n",
    "        self.chosen[chosen_arm] = True\n",
    "\n",
    "        n = self.counts[chosen_arm]\n",
    "        value = self.values[chosen_arm]\n",
    "        new_value = ((n - 1) / float(n)) * value + (1 / float(n)) * reward\n",
    "        self.values[chosen_arm] = new_value"
   ]
  },
  {
   "cell_type": "code",
   "execution_count": 319,
   "metadata": {
    "collapsed": true
   },
   "outputs": [],
   "source": [
    "def categorical_draw(probs):\n",
    "    z = random.random()\n",
    "    cum_prob = 0.0\n",
    "    for i in range(len(probs)):\n",
    "        prob = probs[i]\n",
    "        cum_prob += prob\n",
    "        if cum_prob > z:\n",
    "            return i\n",
    "    \n",
    "    return len(probs) - 1\n",
    "\n",
    "class Softmax:\n",
    "    def __init__(self, n_arms):\n",
    "        self.temperature = 1\n",
    "        self.n_arms = n_arms\n",
    "        self.counts = [0     for col in range(n_arms)]\n",
    "        self.values = [0.0   for col in range(n_arms)]\n",
    "        self.chosen = [False for col in range(n_arms)]\n",
    "\n",
    "    def initialize(self):\n",
    "        self.chosen = [False for col in range(self.n_arms)]\n",
    "  \n",
    "    def select_arm(self):\n",
    "        z = sum([math.exp(v / self.temperature) for v in self.values])\n",
    "        probs = [math.exp(v / self.temperature) / z for v in self.values]\n",
    "        return categorical_draw(probs)\n",
    "\n",
    "    def update(self, chosen_arm, reward):\n",
    "        self.counts[chosen_arm] = self.counts[chosen_arm] + 1\n",
    "        n = self.counts[chosen_arm]\n",
    "\n",
    "        value = self.values[chosen_arm]\n",
    "        new_value = ((n - 1) / float(n)) * value + (1 / float(n)) * reward\n",
    "        self.values[chosen_arm] = new_value\n"
   ]
  },
  {
   "cell_type": "markdown",
   "metadata": {},
   "source": [
    "And we have a test structure"
   ]
  },
  {
   "cell_type": "code",
   "execution_count": 320,
   "metadata": {
    "collapsed": true
   },
   "outputs": [],
   "source": [
    "def test_algorithm(algo, solutions):\n",
    "    n_solutions      = len(solutions)\n",
    "    rewards            = [0 for i in range(n_solutions)]\n",
    "    cumulative_rewards = [0 for i in range(n_solutions)]\n",
    "    chosen_arms        = [0 for i in range(n_solutions)]\n",
    "    \n",
    "    algo.initialize()\n",
    "  \n",
    "    for i, solution in enumerate(solutions):\n",
    "        chosen_arm = algo.select_arm()\n",
    "        chosen_arms[i] = chosen_arm\n",
    "\n",
    "        if chosen_arm in solutions[i:i+10]:\n",
    "            reward = 1\n",
    "        else:\n",
    "            reward = 0\n",
    "        \n",
    "        rewards[i] = reward\n",
    "        cumulative_rewards[i] = cumulative_rewards[i - 1] + reward\n",
    "        algo.update(chosen_arm, reward)\n",
    "        algo.chosen[solution] = True\n",
    "\n",
    "    return sum(rewards) / float(n_solutions)"
   ]
  },
  {
   "cell_type": "markdown",
   "metadata": {},
   "source": [
    "So, for each user in the dataset, we will use the algorithm. And then plot the result of the accuracy of the algorithm."
   ]
  },
  {
   "cell_type": "code",
   "execution_count": 321,
   "metadata": {},
   "outputs": [],
   "source": [
    "algo = EpsilonGreedy(max(problems))\n",
    "total_rewards = []\n",
    "\n",
    "for user, solutions in groupby(trainning_solutions, lambda x: x.user):\n",
    "    solutions = [s.problem for s in solutions]\n",
    "    \n",
    "    total_rewards.append(\n",
    "        test_algorithm(algo, solutions)\n",
    "    )"
   ]
  },
  {
   "cell_type": "code",
   "execution_count": 322,
   "metadata": {},
   "outputs": [
    {
     "data": {
      "image/png": "[encoded data removed]",
      "text/plain": [
       "<matplotlib.figure.Figure at 0x7f40f74def10>"
      ]
     },
     "metadata": {},
     "output_type": "display_data"
    }
   ],
   "source": [
    "x = range(len(total_rewards))\n",
    "y = total_rewards\n",
    "plt.scatter(x, y, alpha=0.5)\n",
    "plt.title(u'treinamento')\n",
    "plt.xlabel('t')\n",
    "plt.ylabel(u'acurácia')\n",
    "plt.show()"
   ]
  },
  {
   "cell_type": "code",
   "execution_count": 323,
   "metadata": {},
   "outputs": [],
   "source": [
    "total_rewards = []\n",
    "algo.epsilon = 0\n",
    "\n",
    "for user, solutions in groupby(testing_solutions, lambda x: x.user):\n",
    "    solutions = [s.problem for s in solutions]\n",
    "    \n",
    "    total_rewards.append(\n",
    "        test_algorithm(algo, solutions)\n",
    "    )"
   ]
  },
  {
   "cell_type": "code",
   "execution_count": 324,
   "metadata": {},
   "outputs": [
    {
     "data": {
      "image/png": "[encoded data removed]",
      "text/plain": [
       "<matplotlib.figure.Figure at 0x7f40fabaf250>"
      ]
     },
     "metadata": {},
     "output_type": "display_data"
    }
   ],
   "source": [
    "x = range(len(total_rewards))\n",
    "y = total_rewards\n",
    "plt.scatter(x, y, alpha=0.5)\n",
    "plt.title(u'validação')\n",
    "plt.xlabel('t')\n",
    "plt.ylabel(u'acurácia')\n",
    "plt.show()"
   ]
  }
 ],
 "metadata": {
  "kernelspec": {
   "display_name": "Python 2",
   "language": "python",
   "name": "python2"
  },
  "language_info": {
   "codemirror_mode": {
    "name": "ipython",
    "version": 2
   },
   "file_extension": ".py",
   "mimetype": "text/x-python",
   "name": "python",
   "nbconvert_exporter": "python",
   "pygments_lexer": "ipython2",
   "version": "2.7.12"
  }
 },
 "nbformat": 4,
 "nbformat_minor": 2
}

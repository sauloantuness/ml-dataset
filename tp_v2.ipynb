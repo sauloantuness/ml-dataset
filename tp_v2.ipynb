{
 "cells": [
  {
   "cell_type": "markdown",
   "metadata": {},
   "source": [
    "# Problem sugestion with MAB algorithms"
   ]
  },
  {
   "cell_type": "markdown",
   "metadata": {},
   "source": [
    "We are using a simple MAB algorithm to select problems to competitive programming competitors. In this work we first introduce the base case.\n",
    "\n",
    "First we start with the Epsilon-Greedy algorithm."
   ]
  },
  {
   "cell_type": "markdown",
   "metadata": {},
   "source": [
    "## The data"
   ]
  },
  {
   "cell_type": "markdown",
   "metadata": {},
   "source": [
    "The algorithm will be trainning using the data from the URI Onlide Judge. We solve around of 200k solutions.\n",
    "The solutions is a list of tuples composed by `(problem_id, user_id, date)`.\n",
    "\n",
    "At first we will read the data and sort by date."
   ]
  },
  {
   "cell_type": "code",
   "execution_count": null,
   "metadata": {
    "collapsed": true
   },
   "outputs": [],
   "source": [
    "import random, math\n",
    "from itertools import groupby\n",
    "from collections import namedtuple\n",
    "import pandas as pd\n",
    "import matplotlib.pyplot as plt"
   ]
  },
  {
   "cell_type": "code",
   "execution_count": 41,
   "metadata": {
    "collapsed": false
   },
   "outputs": [
    {
     "data": {
      "text/html": [
       "<div>\n",
       "<table border=\"1\" class=\"dataframe\">\n",
       "  <thead>\n",
       "    <tr style=\"text-align: right;\">\n",
       "      <th></th>\n",
       "      <th>user</th>\n",
       "      <th>problem</th>\n",
       "      <th>category</th>\n",
       "      <th>date</th>\n",
       "    </tr>\n",
       "  </thead>\n",
       "  <tbody>\n",
       "    <tr>\n",
       "      <th>0</th>\n",
       "      <td>40980</td>\n",
       "      <td>1001</td>\n",
       "      <td>1</td>\n",
       "      <td>15/02/25 06:15</td>\n",
       "    </tr>\n",
       "    <tr>\n",
       "      <th>1</th>\n",
       "      <td>40980</td>\n",
       "      <td>1002</td>\n",
       "      <td>1</td>\n",
       "      <td>15/02/25 07:10</td>\n",
       "    </tr>\n",
       "    <tr>\n",
       "      <th>2</th>\n",
       "      <td>40980</td>\n",
       "      <td>1003</td>\n",
       "      <td>1</td>\n",
       "      <td>15/02/25 06:17</td>\n",
       "    </tr>\n",
       "    <tr>\n",
       "      <th>3</th>\n",
       "      <td>40980</td>\n",
       "      <td>1004</td>\n",
       "      <td>1</td>\n",
       "      <td>15/02/25 06:19</td>\n",
       "    </tr>\n",
       "    <tr>\n",
       "      <th>4</th>\n",
       "      <td>40980</td>\n",
       "      <td>1005</td>\n",
       "      <td>1</td>\n",
       "      <td>15/02/25 07:31</td>\n",
       "    </tr>\n",
       "  </tbody>\n",
       "</table>\n",
       "</div>"
      ],
      "text/plain": [
       "    user  problem  category            date\n",
       "0  40980     1001         1  15/02/25 06:15\n",
       "1  40980     1002         1  15/02/25 07:10\n",
       "2  40980     1003         1  15/02/25 06:17\n",
       "3  40980     1004         1  15/02/25 06:19\n",
       "4  40980     1005         1  15/02/25 07:31"
      ]
     },
     "execution_count": 41,
     "metadata": {},
     "output_type": "execute_result"
    }
   ],
   "source": [
    "solutions_df = pd.read_csv('solutions.csv')\n",
    "solutions_df[:5]"
   ]
  },
  {
   "cell_type": "markdown",
   "metadata": {},
   "source": [
    "The first thing to do after read the dataset, is filter the data. This is important for us, because doint this first, we need to work with less data. This will speed up our work."
   ]
  },
  {
   "cell_type": "code",
   "execution_count": 42,
   "metadata": {
    "collapsed": false
   },
   "outputs": [
    {
     "data": {
      "text/html": [
       "<div>\n",
       "<table border=\"1\" class=\"dataframe\">\n",
       "  <thead>\n",
       "    <tr style=\"text-align: right;\">\n",
       "      <th></th>\n",
       "      <th>user</th>\n",
       "      <th>problem</th>\n",
       "      <th>category</th>\n",
       "      <th>date</th>\n",
       "    </tr>\n",
       "  </thead>\n",
       "  <tbody>\n",
       "    <tr>\n",
       "      <th>48</th>\n",
       "      <td>40980</td>\n",
       "      <td>1124</td>\n",
       "      <td>8</td>\n",
       "      <td>15/07/08 06:23</td>\n",
       "    </tr>\n",
       "    <tr>\n",
       "      <th>79</th>\n",
       "      <td>40980</td>\n",
       "      <td>1857</td>\n",
       "      <td>8</td>\n",
       "      <td>16/08/02 03:10</td>\n",
       "    </tr>\n",
       "    <tr>\n",
       "      <th>116</th>\n",
       "      <td>40980</td>\n",
       "      <td>1455</td>\n",
       "      <td>8</td>\n",
       "      <td>15/12/15 04:37</td>\n",
       "    </tr>\n",
       "    <tr>\n",
       "      <th>131</th>\n",
       "      <td>40980</td>\n",
       "      <td>1126</td>\n",
       "      <td>8</td>\n",
       "      <td>15/09/26 02:55</td>\n",
       "    </tr>\n",
       "    <tr>\n",
       "      <th>144</th>\n",
       "      <td>40980</td>\n",
       "      <td>1560</td>\n",
       "      <td>8</td>\n",
       "      <td>15/10/07 10:36</td>\n",
       "    </tr>\n",
       "  </tbody>\n",
       "</table>\n",
       "</div>"
      ],
      "text/plain": [
       "      user  problem  category            date\n",
       "48   40980     1124         8  15/07/08 06:23\n",
       "79   40980     1857         8  16/08/02 03:10\n",
       "116  40980     1455         8  15/12/15 04:37\n",
       "131  40980     1126         8  15/09/26 02:55\n",
       "144  40980     1560         8  15/10/07 10:36"
      ]
     },
     "execution_count": 42,
     "metadata": {},
     "output_type": "execute_result"
    }
   ],
   "source": [
    "filter_category = 7\n",
    "\n",
    "categories = [\n",
    "    'All', #0\n",
    "    'Beginner', #1\n",
    "    'Ad-Hoc', #2\n",
    "    'String', #3\n",
    "    'Libraries', #4\n",
    "    'Math', #5\n",
    "    'Paradigms', #6\n",
    "    'Graph', #7\n",
    "    'Geometry', #8\n",
    "]\n",
    "\n",
    "category = categories[filter_category]\n",
    "\n",
    "if filter_category:\n",
    "    category = categories[filter_category]\n",
    "    solutions_df = solutions_df.loc[solutions_df['category'] == filter_category]\n",
    "    solutions_df[:5]\n",
    "    "
   ]
  },
  {
   "cell_type": "markdown",
   "metadata": {},
   "source": [
    "Now, we will get the set of problems and users."
   ]
  },
  {
   "cell_type": "code",
   "execution_count": 43,
   "metadata": {
    "collapsed": false
   },
   "outputs": [
    {
     "data": {
      "text/plain": [
       "[1039, 1102, 1108, 1124, 1126]"
      ]
     },
     "execution_count": 43,
     "metadata": {},
     "output_type": "execute_result"
    }
   ],
   "source": [
    "problems = list(set(solutions_df['problem']))\n",
    "problems.sort()\n",
    "problems[:5]"
   ]
  },
  {
   "cell_type": "code",
   "execution_count": 44,
   "metadata": {
    "collapsed": false
   },
   "outputs": [
    {
     "data": {
      "text/plain": [
       "[2, 83, 174, 276, 384]"
      ]
     },
     "execution_count": 44,
     "metadata": {},
     "output_type": "execute_result"
    }
   ],
   "source": [
    "users = list(set(solutions_df['user']))\n",
    "users.sort()\n",
    "users[:5]"
   ]
  },
  {
   "cell_type": "markdown",
   "metadata": {},
   "source": [
    "Now we will fix the user and problems id. We will make they be continuous starting from 0."
   ]
  },
  {
   "cell_type": "code",
   "execution_count": 45,
   "metadata": {
    "collapsed": false
   },
   "outputs": [
    {
     "data": {
      "text/html": [
       "<div>\n",
       "<table border=\"1\" class=\"dataframe\">\n",
       "  <thead>\n",
       "    <tr style=\"text-align: right;\">\n",
       "      <th></th>\n",
       "      <th>user</th>\n",
       "      <th>problem</th>\n",
       "      <th>category</th>\n",
       "      <th>date</th>\n",
       "    </tr>\n",
       "  </thead>\n",
       "  <tbody>\n",
       "    <tr>\n",
       "      <th>48</th>\n",
       "      <td>353</td>\n",
       "      <td>3</td>\n",
       "      <td>8</td>\n",
       "      <td>15/07/08 06:23</td>\n",
       "    </tr>\n",
       "    <tr>\n",
       "      <th>79</th>\n",
       "      <td>353</td>\n",
       "      <td>45</td>\n",
       "      <td>8</td>\n",
       "      <td>16/08/02 03:10</td>\n",
       "    </tr>\n",
       "    <tr>\n",
       "      <th>116</th>\n",
       "      <td>353</td>\n",
       "      <td>22</td>\n",
       "      <td>8</td>\n",
       "      <td>15/12/15 04:37</td>\n",
       "    </tr>\n",
       "    <tr>\n",
       "      <th>131</th>\n",
       "      <td>353</td>\n",
       "      <td>4</td>\n",
       "      <td>8</td>\n",
       "      <td>15/09/26 02:55</td>\n",
       "    </tr>\n",
       "    <tr>\n",
       "      <th>144</th>\n",
       "      <td>353</td>\n",
       "      <td>28</td>\n",
       "      <td>8</td>\n",
       "      <td>15/10/07 10:36</td>\n",
       "    </tr>\n",
       "  </tbody>\n",
       "</table>\n",
       "</div>"
      ],
      "text/plain": [
       "     user  problem  category            date\n",
       "48    353        3         8  15/07/08 06:23\n",
       "79    353       45         8  16/08/02 03:10\n",
       "116   353       22         8  15/12/15 04:37\n",
       "131   353        4         8  15/09/26 02:55\n",
       "144   353       28         8  15/10/07 10:36"
      ]
     },
     "execution_count": 45,
     "metadata": {},
     "output_type": "execute_result"
    }
   ],
   "source": [
    "for i, user in enumerate(users):\n",
    "    solutions_df.replace({'user': {user: i}}, inplace=True)\n",
    "\n",
    "for i, problem in enumerate(problems):\n",
    "    solutions_df.replace({'problem': {problem: i}}, inplace=True)\n",
    "    \n",
    "solutions_df[:5]"
   ]
  },
  {
   "cell_type": "markdown",
   "metadata": {},
   "source": [
    "Update the users and problems to correspond the new id's"
   ]
  },
  {
   "cell_type": "code",
   "execution_count": 46,
   "metadata": {
    "collapsed": false
   },
   "outputs": [
    {
     "data": {
      "text/plain": [
       "[0, 1, 2, 3, 4]"
      ]
     },
     "execution_count": 46,
     "metadata": {},
     "output_type": "execute_result"
    }
   ],
   "source": [
    "problems = list(set(solutions_df['problem']))\n",
    "problems[:5]"
   ]
  },
  {
   "cell_type": "code",
   "execution_count": 47,
   "metadata": {
    "collapsed": false
   },
   "outputs": [
    {
     "data": {
      "text/plain": [
       "[0, 1, 2, 3, 4]"
      ]
     },
     "execution_count": 47,
     "metadata": {},
     "output_type": "execute_result"
    }
   ],
   "source": [
    "users = list(set(solutions_df['user']))\n",
    "users[:5]"
   ]
  },
  {
   "cell_type": "markdown",
   "metadata": {},
   "source": [
    "After that, we need to sort the data by the date."
   ]
  },
  {
   "cell_type": "code",
   "execution_count": null,
   "metadata": {
    "collapsed": false
   },
   "outputs": [],
   "source": [
    "solutions_df = solutions_df.sort_values('date')\n",
    "solutions_df[:5]"
   ]
  },
  {
   "cell_type": "markdown",
   "metadata": {},
   "source": [
    "Now, we can split the data. \n",
    "OBS: The problems are indexed py your id. How they are sequential, we will decrease the value 1001 of each one. Because this will make the code more simple."
   ]
  },
  {
   "cell_type": "code",
   "execution_count": 49,
   "metadata": {
    "collapsed": false
   },
   "outputs": [
    {
     "data": {
      "text/plain": [
       "[Solution(problem=0, user=0),\n",
       " Solution(problem=0, user=10),\n",
       " Solution(problem=3, user=0),\n",
       " Solution(problem=0, user=11),\n",
       " Solution(problem=3, user=3)]"
      ]
     },
     "execution_count": 49,
     "metadata": {},
     "output_type": "execute_result"
    }
   ],
   "source": [
    "Solution = namedtuple('Solution', 'problem, user')\n",
    "solutions = []\n",
    "\n",
    "for row in solutions_df.itertuples():\n",
    "    solutions.append(\n",
    "        Solution(row.problem, row.user)\n",
    "    )\n",
    "        \n",
    "solutions[:5]"
   ]
  },
  {
   "cell_type": "markdown",
   "metadata": {},
   "source": [
    "At this point we have everything that is necessary to test our algorithms. To start, we will use the Epsilon-Greedy algorithm"
   ]
  },
  {
   "cell_type": "code",
   "execution_count": 50,
   "metadata": {
    "collapsed": true
   },
   "outputs": [],
   "source": [
    "class EpsilonGreedy():\n",
    "    def __init__(self, n_users, n_problems):\n",
    "        self.epsilon = 0.001\n",
    "        self.n_arms = n_problems\n",
    "        self.counts = [0     for col in range(self.n_arms)]\n",
    "        self.values = [0.0   for col in range(self.n_arms)]\n",
    "        self.chosen = [[0 for col in range(n_problems)] for col in range(n_users)]\n",
    "\n",
    "\n",
    "    def max_arm(self, user):\n",
    "        max_arm = 0\n",
    "        max_value = -1\n",
    "        \n",
    "        for arm in range(self.n_arms):\n",
    "            if self.chosen[user][arm]:\n",
    "                continue\n",
    "                \n",
    "            if self.values[arm] > max_value:\n",
    "                max_arm = arm\n",
    "                max_value = self.values[arm]\n",
    "\n",
    "        return max_arm\n",
    "\n",
    "    \n",
    "    def rand_arm(self, user):\n",
    "        rand_arm = random.randrange(self.n_arms)\n",
    "        \n",
    "        while self.chosen[user][rand_arm]:\n",
    "            rand_arm = (rand_arm + 1) % self.n_arms\n",
    "\n",
    "        return rand_arm\n",
    "\n",
    "\n",
    "    def select_arm(self, user):        \n",
    "        if random.random() > self.epsilon:\n",
    "            return self.max_arm(user)\n",
    "        else:\n",
    "            return self.rand_arm(user)\n",
    "  \n",
    "\n",
    "    def update(self, chosen_arm, reward):\n",
    "        self.counts[chosen_arm] = self.counts[chosen_arm] + 1\n",
    "\n",
    "        n = self.counts[chosen_arm]\n",
    "        value = self.values[chosen_arm]\n",
    "        new_value = ((n - 1) / float(n)) * value + (1 / float(n)) * reward\n",
    "        self.values[chosen_arm] = new_value"
   ]
  },
  {
   "cell_type": "code",
   "execution_count": 51,
   "metadata": {
    "collapsed": true
   },
   "outputs": [],
   "source": [
    "class AnnealingEpsilonGreedy():\n",
    "    def __init__(self, n_users, n_problems):\n",
    "        self.epsilon = 0.1\n",
    "        self.n_arms = n_problems\n",
    "        self.counts = [0     for col in range(self.n_arms)]\n",
    "        self.values = [0.0   for col in range(self.n_arms)]\n",
    "        self.chosen = [[0 for col in range(n_problems)] for col in range(n_users)]\n",
    "\n",
    "\n",
    "    def max_arm(self, user):\n",
    "        max_arm = 0\n",
    "        max_value = -1\n",
    "        \n",
    "        for arm in range(self.n_arms):\n",
    "            if self.chosen[user][arm]:\n",
    "                continue\n",
    "                \n",
    "            if self.values[arm] > max_value:\n",
    "                max_arm = arm\n",
    "                max_value = self.values[arm]\n",
    "\n",
    "        return max_arm\n",
    "\n",
    "    \n",
    "    def rand_arm(self, user):\n",
    "        rand_arm = random.randrange(self.n_arms)\n",
    "        \n",
    "        while self.chosen[user][rand_arm]:\n",
    "            rand_arm = (rand_arm + 1) % self.n_arms\n",
    "\n",
    "        return rand_arm\n",
    "\n",
    "\n",
    "    def select_arm(self, user):\n",
    "        t = sum(self.counts) + 1\n",
    "        epsilon = 1 / math.log(t + 0.0000001)\n",
    "        \n",
    "        if random.random() > epsilon:\n",
    "            return self.max_arm(user)\n",
    "        else:\n",
    "            return self.rand_arm(user)\n",
    "  \n",
    "\n",
    "    def update(self, chosen_arm, reward):\n",
    "        self.counts[chosen_arm] = self.counts[chosen_arm] + 1\n",
    "\n",
    "        n = self.counts[chosen_arm]\n",
    "        value = self.values[chosen_arm]\n",
    "        new_value = ((n - 1) / float(n)) * value + (1 / float(n)) * reward\n",
    "        self.values[chosen_arm] = new_value"
   ]
  },
  {
   "cell_type": "code",
   "execution_count": 52,
   "metadata": {
    "collapsed": true
   },
   "outputs": [],
   "source": [
    "def ind_max(x):\n",
    "    m = max(x)\n",
    "    return x.index(m)\n",
    "\n",
    "class UCB1():\n",
    "    def __init__(self, n_users, n_problems):\n",
    "        self.n_arms = n_problems\n",
    "        self.counts = [0     for col in range(self.n_arms)]\n",
    "        self.values = [0.0   for col in range(self.n_arms)]\n",
    "        self.chosen = [[0 for col in range(n_problems)] for col in range(n_users)]\n",
    "    \n",
    "    def select_arm(self, user):\n",
    "        for arm in range(self.n_arms):\n",
    "            if self.counts[arm] == 0:\n",
    "                return arm\n",
    "\n",
    "        ucb_values = [0.0 for arm in range(self.n_arms)]\n",
    "        total_counts = sum(self.counts)\n",
    "        log_total_counts = 2 * math.log(total_counts)\n",
    "        for arm in range(self.n_arms):\n",
    "            if self.chosen[user][arm]:\n",
    "                ucb_values[arm] = 0\n",
    "            else:\n",
    "                bonus = math.sqrt(log_total_counts / float(self.counts[arm]))\n",
    "                ucb_values[arm] = self.values[arm] + bonus\n",
    "\n",
    "        return ind_max(ucb_values)\n",
    "    \n",
    "    def update(self, chosen_arm, reward):\n",
    "        self.counts[chosen_arm] = self.counts[chosen_arm] + 1\n",
    "        n = self.counts[chosen_arm]\n",
    "\n",
    "        value = self.values[chosen_arm]\n",
    "        new_value = ((n - 1) / float(n)) * value + (1 / float(n)) * reward\n",
    "        self.values[chosen_arm] = new_value\n",
    "        return\n"
   ]
  },
  {
   "cell_type": "markdown",
   "metadata": {},
   "source": [
    "And we have a test structure"
   ]
  },
  {
   "cell_type": "code",
   "execution_count": 53,
   "metadata": {
    "collapsed": true
   },
   "outputs": [],
   "source": [
    "def test_algorithm(algo, solutions):\n",
    "    n_solutions        = len(solutions)\n",
    "    rewards            = [0 for i in range(n_solutions)]\n",
    "    cumulative_rewards = [0 for i in range(n_solutions)]\n",
    "    chosen_arms        = [0 for i in range(n_solutions)]\n",
    "  \n",
    "    for i, solution in enumerate(solutions):\n",
    "        chosen_arm = algo.select_arm(solution.user)\n",
    "\n",
    "        if chosen_arm == solution.problem:\n",
    "            reward = 1\n",
    "        else:\n",
    "            reward = 0\n",
    "        \n",
    "        rewards[i] = reward\n",
    "        cumulative_rewards[i] = cumulative_rewards[i - 1] + reward\n",
    "        chosen_arms[i] = chosen_arm\n",
    "        \n",
    "        algo.update(chosen_arm, reward)\n",
    "        algo.chosen[solution.user][solution.problem] = 1\n",
    "\n",
    "    return cumulative_rewards"
   ]
  },
  {
   "cell_type": "markdown",
   "metadata": {},
   "source": [
    "So, for each user in the dataset, we will use the algorithm. And then plot the result of the accuracy of the algorithm."
   ]
  },
  {
   "cell_type": "code",
   "execution_count": 54,
   "metadata": {
    "collapsed": false
   },
   "outputs": [
    {
     "name": "stdout",
     "output_type": "stream",
     "text": [
      "eg\n",
      "aeg\n",
      "ucb\n"
     ]
    }
   ],
   "source": [
    "n_users = len(users)\n",
    "n_problems = len(problems)\n",
    "\n",
    "eg = EpsilonGreedy(n_users, n_problems)\n",
    "aeg = AnnealingEpsilonGreedy(n_users, n_problems)\n",
    "ucb1 = UCB1(n_users, n_problems)\n",
    "\n",
    "cr_eg = test_algorithm(eg, solutions)\n",
    "print 'eg'\n",
    "cr_aeg = test_algorithm(aeg, solutions)\n",
    "print 'aeg'\n",
    "cr_ucb1 = test_algorithm(ucb1, solutions)\n",
    "print 'ucb'"
   ]
  },
  {
   "cell_type": "code",
   "execution_count": null,
   "metadata": {
    "collapsed": false
   },
   "outputs": [],
   "source": [
    "x = range(len(solutions))\n",
    "\n",
    "plt.plot(x, cr_eg, alpha=0.5, label='EpsilonGreedy')\n",
    "plt.plot(x, cr_aeg, alpha=0.5, label='AnnealingEpsilonGreedy')\n",
    "plt.plot(x, cr_ucb1, alpha=0.5, label='UCB1')\n",
    "\n",
    "plt.title(category)\n",
    "plt.xlabel('time')\n",
    "plt.ylabel('cumulative rewards')\n",
    "plt.legend()\n",
    "\n",
    "plt.show()"
   ]
  }
 ],
 "metadata": {
  "kernelspec": {
   "display_name": "Python 2",
   "language": "python",
   "name": "python2"
  },
  "language_info": {
   "codemirror_mode": {
    "name": "ipython",
    "version": 2
   },
   "file_extension": ".py",
   "mimetype": "text/x-python",
   "name": "python",
   "nbconvert_exporter": "python",
   "pygments_lexer": "ipython2",
   "version": "2.7.6"
  }
 },
 "nbformat": 4,
 "nbformat_minor": 2
}

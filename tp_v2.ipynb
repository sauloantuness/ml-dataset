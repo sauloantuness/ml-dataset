{
 "cells": [
  {
   "cell_type": "markdown",
   "metadata": {},
   "source": [
    "# Problem sugestion with MAB algorithms"
   ]
  },
  {
   "cell_type": "markdown",
   "metadata": {},
   "source": [
    "In this work we use MAB algorithms to select problems to trainning competitive programming competitors."
   ]
  },
  {
   "cell_type": "markdown",
   "metadata": {},
   "source": [
    "## The dataset"
   ]
  },
  {
   "cell_type": "markdown",
   "metadata": {},
   "source": [
    "The algorithms will be trainning using data from the URI Onlide Judge. At this moment, the dataset contains more than 200k solutions. Each solution is a list of tuples composed by `(user, problem, problem_category, date)`."
   ]
  },
  {
   "cell_type": "code",
   "execution_count": 623,
   "metadata": {
    "collapsed": true
   },
   "outputs": [],
   "source": [
    "import random, math\n",
    "from itertools import groupby\n",
    "from collections import namedtuple\n",
    "import pandas as pd\n",
    "import matplotlib.pyplot as plt"
   ]
  },
  {
   "cell_type": "code",
   "execution_count": 624,
   "metadata": {},
   "outputs": [
    {
     "data": {
      "text/html": [
       "<div>\n",
       "<style>\n",
       "    .dataframe thead tr:only-child th {\n",
       "        text-align: right;\n",
       "    }\n",
       "\n",
       "    .dataframe thead th {\n",
       "        text-align: left;\n",
       "    }\n",
       "\n",
       "    .dataframe tbody tr th {\n",
       "        vertical-align: top;\n",
       "    }\n",
       "</style>\n",
       "<table border=\"1\" class=\"dataframe\">\n",
       "  <thead>\n",
       "    <tr style=\"text-align: right;\">\n",
       "      <th></th>\n",
       "      <th>user</th>\n",
       "      <th>problem</th>\n",
       "      <th>category</th>\n",
       "      <th>date</th>\n",
       "    </tr>\n",
       "  </thead>\n",
       "  <tbody>\n",
       "    <tr>\n",
       "      <th>0</th>\n",
       "      <td>40980</td>\n",
       "      <td>1001</td>\n",
       "      <td>1</td>\n",
       "      <td>15/02/25 06:15</td>\n",
       "    </tr>\n",
       "    <tr>\n",
       "      <th>1</th>\n",
       "      <td>40980</td>\n",
       "      <td>1002</td>\n",
       "      <td>1</td>\n",
       "      <td>15/02/25 07:10</td>\n",
       "    </tr>\n",
       "    <tr>\n",
       "      <th>2</th>\n",
       "      <td>40980</td>\n",
       "      <td>1003</td>\n",
       "      <td>1</td>\n",
       "      <td>15/02/25 06:17</td>\n",
       "    </tr>\n",
       "    <tr>\n",
       "      <th>3</th>\n",
       "      <td>40980</td>\n",
       "      <td>1004</td>\n",
       "      <td>1</td>\n",
       "      <td>15/02/25 06:19</td>\n",
       "    </tr>\n",
       "    <tr>\n",
       "      <th>4</th>\n",
       "      <td>40980</td>\n",
       "      <td>1005</td>\n",
       "      <td>1</td>\n",
       "      <td>15/02/25 07:31</td>\n",
       "    </tr>\n",
       "  </tbody>\n",
       "</table>\n",
       "</div>"
      ],
      "text/plain": [
       "    user  problem  category            date\n",
       "0  40980     1001         1  15/02/25 06:15\n",
       "1  40980     1002         1  15/02/25 07:10\n",
       "2  40980     1003         1  15/02/25 06:17\n",
       "3  40980     1004         1  15/02/25 06:19\n",
       "4  40980     1005         1  15/02/25 07:31"
      ]
     },
     "execution_count": 624,
     "metadata": {},
     "output_type": "execute_result"
    }
   ],
   "source": [
    "solutions_df = pd.read_csv('solutions.csv')\n",
    "solutions_df[:5]"
   ]
  },
  {
   "cell_type": "markdown",
   "metadata": {},
   "source": [
    "In some tests, we need to select solutions from a specify category. So in theses cases, the first thing to do is filter the data. This is very important, once we work we a lot of data. Doing this first, we will reduce the amount of data to process in future tasks. In another words, this will speed up our work."
   ]
  },
  {
   "cell_type": "code",
   "execution_count": 625,
   "metadata": {},
   "outputs": [
    {
     "data": {
      "text/html": [
       "<div>\n",
       "<style>\n",
       "    .dataframe thead tr:only-child th {\n",
       "        text-align: right;\n",
       "    }\n",
       "\n",
       "    .dataframe thead th {\n",
       "        text-align: left;\n",
       "    }\n",
       "\n",
       "    .dataframe tbody tr th {\n",
       "        vertical-align: top;\n",
       "    }\n",
       "</style>\n",
       "<table border=\"1\" class=\"dataframe\">\n",
       "  <thead>\n",
       "    <tr style=\"text-align: right;\">\n",
       "      <th></th>\n",
       "      <th>user</th>\n",
       "      <th>problem</th>\n",
       "      <th>category</th>\n",
       "      <th>date</th>\n",
       "    </tr>\n",
       "  </thead>\n",
       "  <tbody>\n",
       "    <tr>\n",
       "      <th>0</th>\n",
       "      <td>40980</td>\n",
       "      <td>1001</td>\n",
       "      <td>1</td>\n",
       "      <td>15/02/25 06:15</td>\n",
       "    </tr>\n",
       "    <tr>\n",
       "      <th>1</th>\n",
       "      <td>40980</td>\n",
       "      <td>1002</td>\n",
       "      <td>1</td>\n",
       "      <td>15/02/25 07:10</td>\n",
       "    </tr>\n",
       "    <tr>\n",
       "      <th>2</th>\n",
       "      <td>40980</td>\n",
       "      <td>1003</td>\n",
       "      <td>1</td>\n",
       "      <td>15/02/25 06:17</td>\n",
       "    </tr>\n",
       "    <tr>\n",
       "      <th>3</th>\n",
       "      <td>40980</td>\n",
       "      <td>1004</td>\n",
       "      <td>1</td>\n",
       "      <td>15/02/25 06:19</td>\n",
       "    </tr>\n",
       "    <tr>\n",
       "      <th>4</th>\n",
       "      <td>40980</td>\n",
       "      <td>1005</td>\n",
       "      <td>1</td>\n",
       "      <td>15/02/25 07:31</td>\n",
       "    </tr>\n",
       "  </tbody>\n",
       "</table>\n",
       "</div>"
      ],
      "text/plain": [
       "    user  problem  category            date\n",
       "0  40980     1001         1  15/02/25 06:15\n",
       "1  40980     1002         1  15/02/25 07:10\n",
       "2  40980     1003         1  15/02/25 06:17\n",
       "3  40980     1004         1  15/02/25 06:19\n",
       "4  40980     1005         1  15/02/25 07:31"
      ]
     },
     "execution_count": 625,
     "metadata": {},
     "output_type": "execute_result"
    }
   ],
   "source": [
    "filter_category = 0\n",
    "\n",
    "categories = [\n",
    "    'All', #0\n",
    "    'Beginner', #1\n",
    "    'Ad-Hoc', #2\n",
    "    'String', #3\n",
    "    'Libraries', #4\n",
    "    'Math', #5\n",
    "    'Paradigms', #6\n",
    "    'Graph', #7\n",
    "    'Geometry', #8\n",
    "]\n",
    "\n",
    "category = categories[filter_category]\n",
    "\n",
    "if filter_category:\n",
    "    solutions_df = solutions_df.loc[solutions_df['category'] == filter_category]\n",
    "\n",
    "solutions_df[:5]"
   ]
  },
  {
   "cell_type": "markdown",
   "metadata": {},
   "source": [
    "In this step we need to get the set of problems and users in our dataset."
   ]
  },
  {
   "cell_type": "code",
   "execution_count": 626,
   "metadata": {},
   "outputs": [
    {
     "data": {
      "text/plain": [
       "[1001, 1002, 1003, 1004, 1005]"
      ]
     },
     "execution_count": 626,
     "metadata": {},
     "output_type": "execute_result"
    }
   ],
   "source": [
    "problems = list(set(solutions_df['problem']))\n",
    "problems.sort()\n",
    "problems[:5]"
   ]
  },
  {
   "cell_type": "code",
   "execution_count": 627,
   "metadata": {},
   "outputs": [
    {
     "data": {
      "text/plain": [
       "[2, 83, 174, 276, 384]"
      ]
     },
     "execution_count": 627,
     "metadata": {},
     "output_type": "execute_result"
    }
   ],
   "source": [
    "users = list(set(solutions_df['user']))\n",
    "users.sort()\n",
    "users[:5]"
   ]
  },
  {
   "cell_type": "markdown",
   "metadata": {},
   "source": [
    "Later, we will use the users and problems as a table. So is very important to have the identifiers starting from 0 and be sequential. And in this step, we need to guarantee this."
   ]
  },
  {
   "cell_type": "code",
   "execution_count": 628,
   "metadata": {},
   "outputs": [
    {
     "data": {
      "text/html": [
       "<div>\n",
       "<style>\n",
       "    .dataframe thead tr:only-child th {\n",
       "        text-align: right;\n",
       "    }\n",
       "\n",
       "    .dataframe thead th {\n",
       "        text-align: left;\n",
       "    }\n",
       "\n",
       "    .dataframe tbody tr th {\n",
       "        vertical-align: top;\n",
       "    }\n",
       "</style>\n",
       "<table border=\"1\" class=\"dataframe\">\n",
       "  <thead>\n",
       "    <tr style=\"text-align: right;\">\n",
       "      <th></th>\n",
       "      <th>user</th>\n",
       "      <th>problem</th>\n",
       "      <th>category</th>\n",
       "      <th>date</th>\n",
       "    </tr>\n",
       "  </thead>\n",
       "  <tbody>\n",
       "    <tr>\n",
       "      <th>0</th>\n",
       "      <td>384</td>\n",
       "      <td>0</td>\n",
       "      <td>1</td>\n",
       "      <td>15/02/25 06:15</td>\n",
       "    </tr>\n",
       "    <tr>\n",
       "      <th>1</th>\n",
       "      <td>384</td>\n",
       "      <td>1</td>\n",
       "      <td>1</td>\n",
       "      <td>15/02/25 07:10</td>\n",
       "    </tr>\n",
       "    <tr>\n",
       "      <th>2</th>\n",
       "      <td>384</td>\n",
       "      <td>2</td>\n",
       "      <td>1</td>\n",
       "      <td>15/02/25 06:17</td>\n",
       "    </tr>\n",
       "    <tr>\n",
       "      <th>3</th>\n",
       "      <td>384</td>\n",
       "      <td>3</td>\n",
       "      <td>1</td>\n",
       "      <td>15/02/25 06:19</td>\n",
       "    </tr>\n",
       "    <tr>\n",
       "      <th>4</th>\n",
       "      <td>384</td>\n",
       "      <td>4</td>\n",
       "      <td>1</td>\n",
       "      <td>15/02/25 07:31</td>\n",
       "    </tr>\n",
       "  </tbody>\n",
       "</table>\n",
       "</div>"
      ],
      "text/plain": [
       "   user  problem  category            date\n",
       "0   384        0         1  15/02/25 06:15\n",
       "1   384        1         1  15/02/25 07:10\n",
       "2   384        2         1  15/02/25 06:17\n",
       "3   384        3         1  15/02/25 06:19\n",
       "4   384        4         1  15/02/25 07:31"
      ]
     },
     "execution_count": 628,
     "metadata": {},
     "output_type": "execute_result"
    }
   ],
   "source": [
    "for i, user in enumerate(users):\n",
    "    solutions_df.replace({'user': {user: i}}, inplace=True)\n",
    "\n",
    "for i, problem in enumerate(problems):\n",
    "    solutions_df.replace({'problem': {problem: i}}, inplace=True)\n",
    "    \n",
    "solutions_df[:5]"
   ]
  },
  {
   "cell_type": "markdown",
   "metadata": {},
   "source": [
    "Updated the users and problems, we can see the new identifiers."
   ]
  },
  {
   "cell_type": "code",
   "execution_count": 629,
   "metadata": {},
   "outputs": [
    {
     "data": {
      "text/plain": [
       "[0, 1, 2, 3, 4]"
      ]
     },
     "execution_count": 629,
     "metadata": {},
     "output_type": "execute_result"
    }
   ],
   "source": [
    "problems = list(set(solutions_df['problem']))\n",
    "problems[:5]"
   ]
  },
  {
   "cell_type": "code",
   "execution_count": 630,
   "metadata": {},
   "outputs": [
    {
     "data": {
      "text/plain": [
       "[0, 1, 2, 3, 4]"
      ]
     },
     "execution_count": 630,
     "metadata": {},
     "output_type": "execute_result"
    }
   ],
   "source": [
    "users = list(set(solutions_df['user']))\n",
    "users[:5]"
   ]
  },
  {
   "cell_type": "markdown",
   "metadata": {},
   "source": [
    "As MAB are streaming algoritms, we will sort the solutions by the date, to simulate a real situation."
   ]
  },
  {
   "cell_type": "code",
   "execution_count": 631,
   "metadata": {
    "scrolled": true
   },
   "outputs": [
    {
     "data": {
      "text/html": [
       "<div>\n",
       "<style>\n",
       "    .dataframe thead tr:only-child th {\n",
       "        text-align: right;\n",
       "    }\n",
       "\n",
       "    .dataframe thead th {\n",
       "        text-align: left;\n",
       "    }\n",
       "\n",
       "    .dataframe tbody tr th {\n",
       "        vertical-align: top;\n",
       "    }\n",
       "</style>\n",
       "<table border=\"1\" class=\"dataframe\">\n",
       "  <thead>\n",
       "    <tr style=\"text-align: right;\">\n",
       "      <th></th>\n",
       "      <th>user</th>\n",
       "      <th>problem</th>\n",
       "      <th>category</th>\n",
       "      <th>date</th>\n",
       "    </tr>\n",
       "  </thead>\n",
       "  <tbody>\n",
       "    <tr>\n",
       "      <th>195525</th>\n",
       "      <td>0</td>\n",
       "      <td>0</td>\n",
       "      <td>1</td>\n",
       "      <td>12/03/01 04:12</td>\n",
       "    </tr>\n",
       "    <tr>\n",
       "      <th>195526</th>\n",
       "      <td>0</td>\n",
       "      <td>1</td>\n",
       "      <td>1</td>\n",
       "      <td>12/03/01 04:26</td>\n",
       "    </tr>\n",
       "    <tr>\n",
       "      <th>195527</th>\n",
       "      <td>0</td>\n",
       "      <td>2</td>\n",
       "      <td>1</td>\n",
       "      <td>12/03/01 04:28</td>\n",
       "    </tr>\n",
       "    <tr>\n",
       "      <th>195528</th>\n",
       "      <td>0</td>\n",
       "      <td>3</td>\n",
       "      <td>1</td>\n",
       "      <td>12/03/01 04:29</td>\n",
       "    </tr>\n",
       "    <tr>\n",
       "      <th>195613</th>\n",
       "      <td>0</td>\n",
       "      <td>6</td>\n",
       "      <td>1</td>\n",
       "      <td>12/03/01 04:44</td>\n",
       "    </tr>\n",
       "  </tbody>\n",
       "</table>\n",
       "</div>"
      ],
      "text/plain": [
       "        user  problem  category            date\n",
       "195525     0        0         1  12/03/01 04:12\n",
       "195526     0        1         1  12/03/01 04:26\n",
       "195527     0        2         1  12/03/01 04:28\n",
       "195528     0        3         1  12/03/01 04:29\n",
       "195613     0        6         1  12/03/01 04:44"
      ]
     },
     "execution_count": 631,
     "metadata": {},
     "output_type": "execute_result"
    }
   ],
   "source": [
    "solutions_df = solutions_df.sort_values('date')\n",
    "solutions_df[:5]"
   ]
  },
  {
   "cell_type": "markdown",
   "metadata": {},
   "source": [
    "The last step in this data tranform process is to create a list containg only the data that the algorithms need. The user and the problem of the solution."
   ]
  },
  {
   "cell_type": "code",
   "execution_count": 632,
   "metadata": {},
   "outputs": [
    {
     "data": {
      "text/plain": [
       "[Solution(problem=0, user=0),\n",
       " Solution(problem=1, user=0),\n",
       " Solution(problem=2, user=0),\n",
       " Solution(problem=3, user=0),\n",
       " Solution(problem=6, user=0)]"
      ]
     },
     "execution_count": 632,
     "metadata": {},
     "output_type": "execute_result"
    }
   ],
   "source": [
    "Solution = namedtuple('Solution', 'problem, user')\n",
    "solutions = []\n",
    "\n",
    "for row in solutions_df.itertuples():\n",
    "    solutions.append(\n",
    "        Solution(row.problem, row.user)\n",
    "    )\n",
    "        \n",
    "solutions[:5]"
   ]
  },
  {
   "cell_type": "markdown",
   "metadata": {},
   "source": [
    "At this point we have everything that is necessary to test our algorithms."
   ]
  },
  {
   "cell_type": "code",
   "execution_count": 633,
   "metadata": {
    "collapsed": true
   },
   "outputs": [],
   "source": [
    "class AnnealingEpsilonGreedy():\n",
    "    def __init__(self, n_users, n_problems):\n",
    "        self.n_arms = n_problems\n",
    "        self.counts = [0     for col in range(self.n_arms)]\n",
    "        self.values = [0.0   for col in range(self.n_arms)]\n",
    "        self.chosen = [[0 for col in range(n_problems)] for col in range(n_users)]\n",
    "\n",
    "\n",
    "    def max_arm(self, user):\n",
    "        max_arm = 0\n",
    "        max_value = -1\n",
    "        \n",
    "        for arm in range(self.n_arms):\n",
    "            if self.chosen[user][arm]:\n",
    "                continue\n",
    "                \n",
    "            if self.values[arm] > max_value:\n",
    "                max_arm = arm\n",
    "                max_value = self.values[arm]\n",
    "\n",
    "        return max_arm\n",
    "\n",
    "    \n",
    "    def rand_arm(self, user):\n",
    "        rand_arm = random.randrange(self.n_arms)\n",
    "        \n",
    "        while self.chosen[user][rand_arm]:\n",
    "            rand_arm = (rand_arm + 1) % self.n_arms\n",
    "\n",
    "        return rand_arm\n",
    "\n",
    "\n",
    "    def select_arm(self, user):\n",
    "        t = sum(self.counts) + 1\n",
    "        epsilon = 1 / math.log(t + 0.0000001)\n",
    "        \n",
    "        if random.random() > epsilon:\n",
    "            return self.max_arm(user)\n",
    "        else:\n",
    "            return self.rand_arm(user)\n",
    "  \n",
    "\n",
    "    def update(self, chosen_arm, reward):\n",
    "        self.counts[chosen_arm] = self.counts[chosen_arm] + 1\n",
    "        n = self.counts[chosen_arm]\n",
    "        \n",
    "        value = self.values[chosen_arm]\n",
    "        new_value = ((n - 1) / float(n)) * value + (1 / float(n)) * reward\n",
    "        self.values[chosen_arm] = new_value"
   ]
  },
  {
   "cell_type": "code",
   "execution_count": 634,
   "metadata": {
    "collapsed": true
   },
   "outputs": [],
   "source": [
    "def categorical_draw(probs):\n",
    "    z = random.random()\n",
    "    cum_prob = 0.0\n",
    "    for i, prob in enumerate(probs):\n",
    "        cum_prob += prob\n",
    "        if cum_prob > z:\n",
    "            return i\n",
    "    \n",
    "    return len(probs) - 1\n",
    "\n",
    "class AnnealingSoftmax:\n",
    "    def __init__(self, n_users, n_problems):\n",
    "        self.n_arms = n_problems\n",
    "        self.counts = [0     for col in range(self.n_arms)]\n",
    "        self.values = [0.0   for col in range(self.n_arms)]\n",
    "        self.chosen = [[0 for col in range(n_problems)] for col in range(n_users)]\n",
    "\n",
    "    \n",
    "    def select_arm(self, user):\n",
    "        t = sum(self.counts) + 1\n",
    "        temperature = 1.0 / min(t, 700)\n",
    "        \n",
    "        z = 0\n",
    "\n",
    "        for problem, value in enumerate(self.values):\n",
    "            if not self.chosen[user][problem]:\n",
    "                z = z + math.exp(value / temperature)\n",
    "\n",
    "        probs = []\n",
    "\n",
    "        for problem, value in enumerate(self.values):\n",
    "            if self.chosen[user][problem]:\n",
    "                probs.append(0)\n",
    "            else:\n",
    "                probs.append(\n",
    "                    math.exp(value / temperature) / z\n",
    "                )\n",
    "\n",
    "        return categorical_draw(probs)\n",
    "\n",
    "    def update(self, chosen_arm, reward):\n",
    "        self.counts[chosen_arm] = self.counts[chosen_arm] + 1\n",
    "        n = self.counts[chosen_arm]\n",
    "        \n",
    "        value = self.values[chosen_arm]\n",
    "        new_value = ((n - 1) / float(n)) * value + (1 / float(n)) * reward\n",
    "        self.values[chosen_arm] = new_value\n"
   ]
  },
  {
   "cell_type": "code",
   "execution_count": 635,
   "metadata": {
    "collapsed": true
   },
   "outputs": [],
   "source": [
    "def ind_max(x):\n",
    "    m = max(x)\n",
    "    return x.index(m)\n",
    "\n",
    "class UCB1():\n",
    "    def __init__(self, n_users, n_problems):\n",
    "        self.n_arms = n_problems\n",
    "        self.counts = [0     for col in range(self.n_arms)]\n",
    "        self.values = [0.0   for col in range(self.n_arms)]\n",
    "        self.chosen = [[0 for col in range(n_problems)] for col in range(n_users)]\n",
    "    \n",
    "    def select_arm(self, user):\n",
    "        for arm in range(self.n_arms):\n",
    "            if self.counts[arm] == 0:\n",
    "                return arm\n",
    "\n",
    "        ucb_values = [0.0 for arm in range(self.n_arms)]\n",
    "        total_counts = sum(self.counts)\n",
    "        log_total_counts = 2 * math.log(total_counts)\n",
    "        for arm in range(self.n_arms):\n",
    "            if self.chosen[user][arm]:\n",
    "                ucb_values[arm] = 0\n",
    "            else:\n",
    "                bonus = math.sqrt(log_total_counts / float(self.counts[arm]))\n",
    "                ucb_values[arm] = self.values[arm] + bonus\n",
    "\n",
    "        return ind_max(ucb_values)\n",
    "    \n",
    "    def update(self, chosen_arm, reward):\n",
    "        self.counts[chosen_arm] = self.counts[chosen_arm] + 1\n",
    "        n = self.counts[chosen_arm]\n",
    "\n",
    "        value = self.values[chosen_arm]\n",
    "        new_value = ((n - 1) / float(n)) * value + (1 / float(n)) * reward\n",
    "        self.values[chosen_arm] = new_value\n",
    "        return"
   ]
  },
  {
   "cell_type": "markdown",
   "metadata": {},
   "source": [
    "To test our algorithms, was created a test structure."
   ]
  },
  {
   "cell_type": "code",
   "execution_count": 636,
   "metadata": {
    "collapsed": true
   },
   "outputs": [],
   "source": [
    "def test_algorithm(algo, solutions):\n",
    "    n_solutions        = len(solutions)\n",
    "    rewards            = [0 for i in range(n_solutions)]\n",
    "    cumulative_rewards = [0 for i in range(n_solutions)]\n",
    "    chosen_arms        = [0 for i in range(n_solutions)]\n",
    "  \n",
    "    for i, solution in enumerate(solutions):\n",
    "        chosen_arm = algo.select_arm(solution.user)\n",
    "\n",
    "        if chosen_arm == solution.problem:\n",
    "            reward = 1\n",
    "        else:\n",
    "            reward = 0\n",
    "        \n",
    "        rewards[i] = reward\n",
    "        cumulative_rewards[i] = cumulative_rewards[i - 1] + reward\n",
    "        chosen_arms[i] = chosen_arm\n",
    "        \n",
    "        algo.update(chosen_arm, reward)\n",
    "        algo.chosen[solution.user][solution.problem] = 1\n",
    "\n",
    "    return cumulative_rewards"
   ]
  },
  {
   "cell_type": "markdown",
   "metadata": {},
   "source": [
    "We can then run the algorithms and compare the performance of each one."
   ]
  },
  {
   "cell_type": "code",
   "execution_count": 637,
   "metadata": {},
   "outputs": [
    {
     "name": "stdout",
     "output_type": "stream",
     "text": [
      "aeg\n",
      "asm\n",
      "ucb\n"
     ]
    }
   ],
   "source": [
    "n_users = len(users)\n",
    "n_problems = len(problems)\n",
    "n_solutions = len(solutions)\n",
    "\n",
    "eg = EpsilonGreedy(n_users, n_problems)\n",
    "aeg = AnnealingEpsilonGreedy(n_users, n_problems)\n",
    "asm = AnnealingSoftmax(n_users, n_problems)\n",
    "ucb = UCB1(n_users, n_problems)\n",
    "\n",
    "cr_aeg = test_algorithm(aeg, solutions)\n",
    "print 'aeg'\n",
    "cr_asm = test_algorithm(asm, solutions)\n",
    "print 'asm'\n",
    "cr_ucb = test_algorithm(ucb, solutions)\n",
    "print 'ucb'"
   ]
  },
  {
   "cell_type": "code",
   "execution_count": 638,
   "metadata": {},
   "outputs": [
    {
     "data": {
      "image/png": "[encoded data removed]",
      "text/plain": [
       "<matplotlib.figure.Figure at 0x7fbf095e96d0>"
      ]
     },
     "metadata": {},
     "output_type": "display_data"
    }
   ],
   "source": [
    "x = range(len(solutions))\n",
    "\n",
    "plt.plot(x, cr_aeg, alpha=0.5, label='AnnealingEpsilonGreedy')\n",
    "plt.plot(x, cr_asm, alpha=0.5, label='AnnealingSoftmax')\n",
    "plt.plot(x, cr_ucb, alpha=0.5, label='UCB')\n",
    "\n",
    "plt.legend()\n",
    "plt.title(category)\n",
    "plt.xlabel('time')\n",
    "plt.ylabel('cumulative rewards')\n",
    "\n",
    "plt.show()\n",
    "plt.clf()\n",
    "plt.cla()\n",
    "plt.close()"
   ]
  }
 ],
 "metadata": {
  "kernelspec": {
   "display_name": "Python 2",
   "language": "python",
   "name": "python2"
  },
  "language_info": {
   "codemirror_mode": {
    "name": "ipython",
    "version": 2
   },
   "file_extension": ".py",
   "mimetype": "text/x-python",
   "name": "python",
   "nbconvert_exporter": "python",
   "pygments_lexer": "ipython2",
   "version": "2.7.12"
  }
 },
 "nbformat": 4,
 "nbformat_minor": 2
}
